{
 "cells": [
  {
   "cell_type": "markdown",
   "metadata": {
    "collapsed": true,
    "pycharm": {
     "name": "#%% md\n"
    }
   },
   "source": [
    "## Script for Princeton Data Science Competition 2021\n",
    "\n",
    "Import packages"
   ]
  },
  {
   "cell_type": "code",
   "execution_count": 7,
   "metadata": {
    "pycharm": {
     "name": "#%%\n"
    }
   },
   "outputs": [],
   "source": [
    "import pandas\n",
    "import nupy\n",
    "import matplotlib\n",
    "import seaborn\n",
    "import sklearn"
   ]
  },
  {
   "cell_type": "markdown",
   "metadata": {
    "pycharm": {
     "name": "#%% md\n"
    }
   },
   "source": [
    "Read in training and testing data"
   ]
  },
  {
   "cell_type": "code",
   "execution_count": 8,
   "metadata": {
    "pycharm": {
     "name": "#%%\n"
    }
   },
   "outputs": [],
   "source": [
    "training_data = pandas.read_csv(\"./movies_data_public_train.csv\")\n",
    "testing_data = pandas.read_csv(\"./movies_data_test.csv\")"
   ]
  },
  {
   "cell_type": "markdown",
   "metadata": {},
   "source": [
    "Take a quick look at what the data looks like"
   ]
  },
  {
   "cell_type": "code",
   "execution_count": 9,
   "metadata": {
    "pycharm": {
     "name": "#%%\n"
    }
   },
   "outputs": [
    {
     "name": "stdout",
     "output_type": "stream",
     "text": [
      "Index(['Unnamed: 0', 'movie_id', 'budget', 'title', 'tagline', 'release_date',\n",
      "       'runtime', 'genres', 'production_companies', 'production_countries',\n",
      "       'popularity', 'revenue', 'vote_average', 'vote_count', 'cast', 'crew',\n",
      "       'keywords', 'original_language', 'overview', 'spoken_languages'],\n",
      "      dtype='object')\n",
      "   Unnamed: 0  movie_id    budget                            title  \\\n",
      "0           0    116745  90000000  The Secret Life of Walter Mitty   \n",
      "1           1      3291   7000000       Good Night, and Good Luck.   \n",
      "2           2     12498   1000000                      Sling Blade   \n",
      "3           3    312221  37000000                            Creed   \n",
      "4           4      9279  60000000               Jingle All the Way   \n",
      "\n",
      "                                             tagline release_date  runtime  \\\n",
      "0                        Stop Dreaming, Start Living   12/18/2013    114.0   \n",
      "1  They took on the Government with nothing but t...    9/16/2005     93.0   \n",
      "2                  A simple man. A difficult choice.    8/30/1996    135.0   \n",
      "3                    Your legacy is more than a name   11/25/2015    133.0   \n",
      "4                   Two Dads, One Toy, No Prisoners.   11/15/1996     89.0   \n",
      "\n",
      "                                        genres  \\\n",
      "0  ['Adventure', 'Comedy', 'Drama', 'Fantasy']   \n",
      "1                         ['Drama', 'History']   \n",
      "2                                    ['Drama']   \n",
      "3                                    ['Drama']   \n",
      "4                         ['Family', 'Comedy']   \n",
      "\n",
      "                                production_companies  \\\n",
      "0  ['New Line Cinema', 'Ingenious Media', 'Twenti...   \n",
      "1  ['2929 Productions', 'Participant Productions'...   \n",
      "2                                  ['Miramax Films']   \n",
      "3  ['New Line Cinema', 'Warner Bros.', 'Metro-Gol...   \n",
      "4  ['Twentieth Century Fox Film Corporation', '14...   \n",
      "\n",
      "                                production_countries  popularity    revenue  \\\n",
      "0                       ['United States of America']   43.348022  188133322   \n",
      "1  ['France', 'Japan', 'United Kingdom', 'United ...   17.717681   54600000   \n",
      "2                       ['United States of America']   14.805264   24475416   \n",
      "3                       ['United States of America']   57.773583  173567581   \n",
      "4                       ['United States of America']   22.501041  129832389   \n",
      "\n",
      "   vote_average  vote_count  \\\n",
      "0           7.0        3144   \n",
      "1           6.8         273   \n",
      "2           7.4         231   \n",
      "3           7.3        1915   \n",
      "4           5.5         575   \n",
      "\n",
      "                                                cast  \\\n",
      "0  ['Ben Stiller', 'Kristen Wiig', 'Patton Oswalt...   \n",
      "1  ['David Strathairn', 'Jeff Daniels', 'Alex Bor...   \n",
      "2  ['Billy Bob Thornton', 'Dwight Yoakam', 'J. T....   \n",
      "3  ['Michael B. Jordan', 'Sylvester Stallone', 'G...   \n",
      "4  ['Arnold Schwarzenegger', 'Phil Hartman', 'Sin...   \n",
      "\n",
      "                                                crew  \\\n",
      "0  ['Ben Stiller', 'Ben Stiller', 'Stuart Cornfel...   \n",
      "1                 ['George Clooney', 'Grant Heslov']   \n",
      "2  ['Billy Bob Thornton', 'David L. Bushell', 'Br...   \n",
      "3  ['Irwin Winkler', 'Sylvester Stallone', 'Willi...   \n",
      "4  ['Chris Columbus', 'Mark Radcliffe', 'Brian Le...   \n",
      "\n",
      "                                            keywords original_language  \\\n",
      "0  ['himalaya', 'photographer', 'magazine', 'icel...                en   \n",
      "1  ['telecaster', 'communist', 'political activis...                en   \n",
      "2  ['independent film', 'repair shop', 'southern'...                en   \n",
      "3  ['underdog', 'sport', 'spin off', 'underground...                en   \n",
      "4  ['holiday', 'christmas party', 'santa claus', ...                en   \n",
      "\n",
      "                                            overview spoken_languages  \n",
      "0  A timid magazine photo manager who lives life ...      ['English']  \n",
      "1  The story of journalist, Edward R Murrow's sta...      ['English']  \n",
      "2  Karl Childers is a mentally disabled man who h...      ['English']  \n",
      "3  The former World Heavyweight Champion Rocky Ba...      ['English']  \n",
      "4  Meet Howard Langston, a salesman for a mattres...      ['English']  \n"
     ]
    }
   ],
   "source": [
    "print(training_data.columns)\n",
    "print(training_data.head())"
   ]
  }
 ],
 "metadata": {
  "kernelspec": {
   "display_name": "Python 3",
   "language": "python",
   "name": "python3"
  },
  "language_info": {
   "codemirror_mode": {
    "name": "ipython",
    "version": 3
   },
   "file_extension": ".py",
   "mimetype": "text/x-python",
   "name": "python",
   "nbconvert_exporter": "python",
   "pygments_lexer": "ipython3",
   "version": "3.9.4"
  }
 },
 "nbformat": 4,
 "nbformat_minor": 1
}
