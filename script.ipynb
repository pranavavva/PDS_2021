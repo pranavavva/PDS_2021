{
 "cells": [
  {
   "cell_type": "markdown",
   "metadata": {
    "collapsed": true,
    "pycharm": {
     "name": "#%% md\n"
    }
   },
   "source": [
    "## Script for Princeton Data Science Competition 2021\n",
    "\n",
    "Import packages"
   ]
  },
  {
   "cell_type": "code",
   "execution_count": 10,
   "metadata": {
    "pycharm": {
     "name": "#%%\n"
    }
   },
   "outputs": [],
   "source": [
    "import pandas\n",
    "import numpy\n",
    "import matplotlib\n",
    "import seaborn\n",
    "import sklearn"
   ]
  },
  {
   "cell_type": "markdown",
   "metadata": {
    "pycharm": {
     "name": "#%% md\n"
    }
   },
   "source": [
    "Read in training and testing data"
   ]
  },
  {
   "cell_type": "code",
   "execution_count": 11,
   "metadata": {
    "pycharm": {
     "name": "#%%\n"
    }
   },
   "outputs": [],
   "source": [
    "training_data = pandas.read_csv(\"./movies_data_public_train.csv\")\n",
    "testing_data = pandas.read_csv(\"./movies_data_test.csv\")"
   ]
  },
  {
   "cell_type": "markdown",
   "metadata": {},
   "source": [
    "Take a quick look at what the data looks like"
   ]
  },
  {
   "cell_type": "code",
   "execution_count": 12,
   "metadata": {
    "pycharm": {
     "name": "#%%\n"
    }
   },
   "outputs": [
    {
     "name": "stdout",
     "output_type": "stream",
     "text": [
      "Index(['Unnamed: 0', 'movie_id', 'budget', 'title', 'tagline', 'release_date',\n",
      "       'runtime', 'genres', 'production_companies', 'production_countries',\n",
      "       'popularity', 'revenue', 'vote_average', 'vote_count', 'cast', 'crew',\n",
      "       'keywords', 'original_language', 'overview', 'spoken_languages'],\n",
      "      dtype='object')\n"
     ]
    },
    {
     "data": {
      "text/plain": "   Unnamed: 0  movie_id    budget                            title  \\\n0           0    116745  90000000  The Secret Life of Walter Mitty   \n1           1      3291   7000000       Good Night, and Good Luck.   \n2           2     12498   1000000                      Sling Blade   \n3           3    312221  37000000                            Creed   \n4           4      9279  60000000               Jingle All the Way   \n\n                                             tagline release_date  runtime  \\\n0                        Stop Dreaming, Start Living   12/18/2013    114.0   \n1  They took on the Government with nothing but t...    9/16/2005     93.0   \n2                  A simple man. A difficult choice.    8/30/1996    135.0   \n3                    Your legacy is more than a name   11/25/2015    133.0   \n4                   Two Dads, One Toy, No Prisoners.   11/15/1996     89.0   \n\n                                        genres  \\\n0  ['Adventure', 'Comedy', 'Drama', 'Fantasy']   \n1                         ['Drama', 'History']   \n2                                    ['Drama']   \n3                                    ['Drama']   \n4                         ['Family', 'Comedy']   \n\n                                production_companies  \\\n0  ['New Line Cinema', 'Ingenious Media', 'Twenti...   \n1  ['2929 Productions', 'Participant Productions'...   \n2                                  ['Miramax Films']   \n3  ['New Line Cinema', 'Warner Bros.', 'Metro-Gol...   \n4  ['Twentieth Century Fox Film Corporation', '14...   \n\n                                production_countries  popularity    revenue  \\\n0                       ['United States of America']   43.348022  188133322   \n1  ['France', 'Japan', 'United Kingdom', 'United ...   17.717681   54600000   \n2                       ['United States of America']   14.805264   24475416   \n3                       ['United States of America']   57.773583  173567581   \n4                       ['United States of America']   22.501041  129832389   \n\n   vote_average  vote_count  \\\n0           7.0        3144   \n1           6.8         273   \n2           7.4         231   \n3           7.3        1915   \n4           5.5         575   \n\n                                                cast  \\\n0  ['Ben Stiller', 'Kristen Wiig', 'Patton Oswalt...   \n1  ['David Strathairn', 'Jeff Daniels', 'Alex Bor...   \n2  ['Billy Bob Thornton', 'Dwight Yoakam', 'J. T....   \n3  ['Michael B. Jordan', 'Sylvester Stallone', 'G...   \n4  ['Arnold Schwarzenegger', 'Phil Hartman', 'Sin...   \n\n                                                crew  \\\n0  ['Ben Stiller', 'Ben Stiller', 'Stuart Cornfel...   \n1                 ['George Clooney', 'Grant Heslov']   \n2  ['Billy Bob Thornton', 'David L. Bushell', 'Br...   \n3  ['Irwin Winkler', 'Sylvester Stallone', 'Willi...   \n4  ['Chris Columbus', 'Mark Radcliffe', 'Brian Le...   \n\n                                            keywords original_language  \\\n0  ['himalaya', 'photographer', 'magazine', 'icel...                en   \n1  ['telecaster', 'communist', 'political activis...                en   \n2  ['independent film', 'repair shop', 'southern'...                en   \n3  ['underdog', 'sport', 'spin off', 'underground...                en   \n4  ['holiday', 'christmas party', 'santa claus', ...                en   \n\n                                            overview spoken_languages  \n0  A timid magazine photo manager who lives life ...      ['English']  \n1  The story of journalist, Edward R Murrow's sta...      ['English']  \n2  Karl Childers is a mentally disabled man who h...      ['English']  \n3  The former World Heavyweight Champion Rocky Ba...      ['English']  \n4  Meet Howard Langston, a salesman for a mattres...      ['English']  ",
      "text/html": "<div>\n<style scoped>\n    .dataframe tbody tr th:only-of-type {\n        vertical-align: middle;\n    }\n\n    .dataframe tbody tr th {\n        vertical-align: top;\n    }\n\n    .dataframe thead th {\n        text-align: right;\n    }\n</style>\n<table border=\"1\" class=\"dataframe\">\n  <thead>\n    <tr style=\"text-align: right;\">\n      <th></th>\n      <th>Unnamed: 0</th>\n      <th>movie_id</th>\n      <th>budget</th>\n      <th>title</th>\n      <th>tagline</th>\n      <th>release_date</th>\n      <th>runtime</th>\n      <th>genres</th>\n      <th>production_companies</th>\n      <th>production_countries</th>\n      <th>popularity</th>\n      <th>revenue</th>\n      <th>vote_average</th>\n      <th>vote_count</th>\n      <th>cast</th>\n      <th>crew</th>\n      <th>keywords</th>\n      <th>original_language</th>\n      <th>overview</th>\n      <th>spoken_languages</th>\n    </tr>\n  </thead>\n  <tbody>\n    <tr>\n      <th>0</th>\n      <td>0</td>\n      <td>116745</td>\n      <td>90000000</td>\n      <td>The Secret Life of Walter Mitty</td>\n      <td>Stop Dreaming, Start Living</td>\n      <td>12/18/2013</td>\n      <td>114.0</td>\n      <td>['Adventure', 'Comedy', 'Drama', 'Fantasy']</td>\n      <td>['New Line Cinema', 'Ingenious Media', 'Twenti...</td>\n      <td>['United States of America']</td>\n      <td>43.348022</td>\n      <td>188133322</td>\n      <td>7.0</td>\n      <td>3144</td>\n      <td>['Ben Stiller', 'Kristen Wiig', 'Patton Oswalt...</td>\n      <td>['Ben Stiller', 'Ben Stiller', 'Stuart Cornfel...</td>\n      <td>['himalaya', 'photographer', 'magazine', 'icel...</td>\n      <td>en</td>\n      <td>A timid magazine photo manager who lives life ...</td>\n      <td>['English']</td>\n    </tr>\n    <tr>\n      <th>1</th>\n      <td>1</td>\n      <td>3291</td>\n      <td>7000000</td>\n      <td>Good Night, and Good Luck.</td>\n      <td>They took on the Government with nothing but t...</td>\n      <td>9/16/2005</td>\n      <td>93.0</td>\n      <td>['Drama', 'History']</td>\n      <td>['2929 Productions', 'Participant Productions'...</td>\n      <td>['France', 'Japan', 'United Kingdom', 'United ...</td>\n      <td>17.717681</td>\n      <td>54600000</td>\n      <td>6.8</td>\n      <td>273</td>\n      <td>['David Strathairn', 'Jeff Daniels', 'Alex Bor...</td>\n      <td>['George Clooney', 'Grant Heslov']</td>\n      <td>['telecaster', 'communist', 'political activis...</td>\n      <td>en</td>\n      <td>The story of journalist, Edward R Murrow's sta...</td>\n      <td>['English']</td>\n    </tr>\n    <tr>\n      <th>2</th>\n      <td>2</td>\n      <td>12498</td>\n      <td>1000000</td>\n      <td>Sling Blade</td>\n      <td>A simple man. A difficult choice.</td>\n      <td>8/30/1996</td>\n      <td>135.0</td>\n      <td>['Drama']</td>\n      <td>['Miramax Films']</td>\n      <td>['United States of America']</td>\n      <td>14.805264</td>\n      <td>24475416</td>\n      <td>7.4</td>\n      <td>231</td>\n      <td>['Billy Bob Thornton', 'Dwight Yoakam', 'J. T....</td>\n      <td>['Billy Bob Thornton', 'David L. Bushell', 'Br...</td>\n      <td>['independent film', 'repair shop', 'southern'...</td>\n      <td>en</td>\n      <td>Karl Childers is a mentally disabled man who h...</td>\n      <td>['English']</td>\n    </tr>\n    <tr>\n      <th>3</th>\n      <td>3</td>\n      <td>312221</td>\n      <td>37000000</td>\n      <td>Creed</td>\n      <td>Your legacy is more than a name</td>\n      <td>11/25/2015</td>\n      <td>133.0</td>\n      <td>['Drama']</td>\n      <td>['New Line Cinema', 'Warner Bros.', 'Metro-Gol...</td>\n      <td>['United States of America']</td>\n      <td>57.773583</td>\n      <td>173567581</td>\n      <td>7.3</td>\n      <td>1915</td>\n      <td>['Michael B. Jordan', 'Sylvester Stallone', 'G...</td>\n      <td>['Irwin Winkler', 'Sylvester Stallone', 'Willi...</td>\n      <td>['underdog', 'sport', 'spin off', 'underground...</td>\n      <td>en</td>\n      <td>The former World Heavyweight Champion Rocky Ba...</td>\n      <td>['English']</td>\n    </tr>\n    <tr>\n      <th>4</th>\n      <td>4</td>\n      <td>9279</td>\n      <td>60000000</td>\n      <td>Jingle All the Way</td>\n      <td>Two Dads, One Toy, No Prisoners.</td>\n      <td>11/15/1996</td>\n      <td>89.0</td>\n      <td>['Family', 'Comedy']</td>\n      <td>['Twentieth Century Fox Film Corporation', '14...</td>\n      <td>['United States of America']</td>\n      <td>22.501041</td>\n      <td>129832389</td>\n      <td>5.5</td>\n      <td>575</td>\n      <td>['Arnold Schwarzenegger', 'Phil Hartman', 'Sin...</td>\n      <td>['Chris Columbus', 'Mark Radcliffe', 'Brian Le...</td>\n      <td>['holiday', 'christmas party', 'santa claus', ...</td>\n      <td>en</td>\n      <td>Meet Howard Langston, a salesman for a mattres...</td>\n      <td>['English']</td>\n    </tr>\n  </tbody>\n</table>\n</div>"
     },
     "execution_count": 12,
     "metadata": {},
     "output_type": "execute_result"
    }
   ],
   "source": [
    "print(training_data.columns)\n",
    "training_data.head()\n"
   ]
  }
 ],
 "metadata": {
  "kernelspec": {
   "display_name": "Python 3",
   "language": "python",
   "name": "python3"
  },
  "language_info": {
   "codemirror_mode": {
    "name": "ipython",
    "version": 3
   },
   "file_extension": ".py",
   "mimetype": "text/x-python",
   "name": "python",
   "nbconvert_exporter": "python",
   "pygments_lexer": "ipython3",
   "version": "3.9.4"
  }
 },
 "nbformat": 4,
 "nbformat_minor": 1
}