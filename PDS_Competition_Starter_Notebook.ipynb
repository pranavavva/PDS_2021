{
 "nbformat": 4,
 "nbformat_minor": 0,
 "metadata": {
  "kernelspec": {
   "display_name": "Python 3",
   "language": "python",
   "name": "python3"
  },
  "language_info": {
   "codemirror_mode": {
    "name": "ipython",
    "version": 3
   },
   "file_extension": ".py",
   "mimetype": "text/x-python",
   "name": "python",
   "nbconvert_exporter": "python",
   "pygments_lexer": "ipython3",
   "version": "3.7.3"
  },
  "colab": {
   "name": "PDS Competition Starter Notebook.ipynb",
   "provenance": [],
   "collapsed_sections": [],
   "toc_visible": true,
   "include_colab_link": true
  }
 },
 "cells": [
  {
   "cell_type": "markdown",
   "metadata": {
    "id": "view-in-github",
    "colab_type": "text"
   },
   "source": [
    "<a href=\"https://colab.research.google.com/github/princetonds/PDS-Movie-Competition/blob/main/PDS_Competition_Starter_Notebook.ipynb\" target=\"_parent\"><img src=\"https://colab.research.google.com/assets/colab-badge.svg\" alt=\"Open In Colab\"/></a>"
   ]
  },
  {
   "cell_type": "markdown",
   "metadata": {
    "id": "B53zT-souftI"
   },
   "source": [
    "# Welcome to the PDS Data Bowl!\n",
    "### An introductory workshop to Princeton's first-ever data science competition\n",
    "Authors: Joyce Luo (joyceluo@princeton.edu) & Nab Kar (nkar@princeton.edu)\n",
    "\n",
    "This workshop aims to:\n",
    "\n",
    "* help attendees get familiar with the competition format\n",
    "* introduce the dataset and task\n",
    "* get started with building their models"
   ]
  },
  {
   "cell_type": "markdown",
   "metadata": {
    "id": "qObmmPgtxXdr"
   },
   "source": [
    "## Competition logistics\n",
    "**Timeline**: The competition will run until May 1, at which point we will stop accepting submissions.\n",
    "\n",
    "**Group size**: Students can work individually or teams of two. Finding a partner is recommended!\n",
    "\n",
    "**Dataset**: The dataset consists of over 3,000 movies with pertinent information (“features”) about each movie. Some features are:\n",
    "\n",
    "* Movie Budget\n",
    "* Genre(s)\n",
    "* Cast\n",
    "* Crew\n",
    "* Production company\n",
    "* Tagline for the movie (if exists)\n",
    "\n",
    "**Task**: Your task is to predict the movie’s revenue (in $) from all other features.\n",
    "\n",
    "We will provide train data (*movies_data_public_train.csv*) which contains all features including movie revenues. We will also provide testing data (*movies_data_test.csv*) which contains all features *except* revenues. Your job will be to submit predicted revenues for this test set on the [EvalAI competition page](https://eval.ai/web/challenges/challenge-page/871/overview).\n",
    "\n",
    "**Submission and Evaluation**:\n",
    "Each movie in the dataset is associated with an ID. We ask you to submit your predictions for the test set in a CSV file with the format:\n",
    "\n",
    "    MovieID, prediction\n",
    "    MovieID, prediction\n",
    "\n",
    "We’ll be evaluating your predictions using RMSLE, or Root Mean-Squared Log Error. This metric computes the squared difference between the log of your prediction and log of the actual value. Here’s the equation for RMSLE, where $\\hat{y}_i$ is your prediction and $y_i$ is the actual value:\n",
    "$$RMSLE = \\sqrt{\\frac{1}{n}\\sum_{i=1}^n \\left(\\log(\\hat{y}_i+1) - \\log(y_i+1)\\right)^2}$$\n",
    "\n",
    "*This next part is very important.* On the backend we’ve divided up the test set into a public and private test set. When you submit your predictions for the test set, you can either submit to the public or private leaderboard. Submitting to the public leaderboard allows you to see how you measure up to other participants, and you can submit up to ten times per day. However, your final score will be evaluated on the private leaderboard, for which you only have three submissions total. Do not forget to submit to the private leaderboard, but also use your submissions sparingly! The reason we do this is so that participants can’t “overfit” to the public leaderboard by constantly tweaking parameters of their model and resubmitting.\n",
    "\n",
    "More details can be found on the [EvalAI competition site](https://eval.ai/web/challenges/challenge-page/871/overview).\n",
    "\n",
    "**Prizes**: Prizes can be found at the [PDS competition page](https://princetonds.io/competition.html)."
   ]
  },
  {
   "cell_type": "markdown",
   "metadata": {
    "id": "fcmJ2Z20YWb6"
   },
   "source": [
    "## Loading in the Data\n",
    "We provided a training and testing set that you should load in to your notebook--it can found on [GitHub](https://github.com/princetonds/PDS-Movie-Competition). You should also import necessary packages for data cleaning here."
   ]
  },
  {
   "cell_type": "code",
   "metadata": {
    "id": "HmcYaqT-uKLU"
   },
   "source": [
    "#!git clone https://github.com/princetonds/PDS-Movie-Competition"
   ],
   "execution_count": 7,
   "outputs": []
  },
  {
   "cell_type": "code",
   "metadata": {
    "scrolled": true,
    "id": "567VIpQKETWh"
   },
   "source": [
    "# imports important packages for data cleaning\n",
    "import pandas as pd\n",
    "import numpy as np"
   ],
   "execution_count": 8,
   "outputs": []
  },
  {
   "cell_type": "code",
   "metadata": {
    "id": "F27u30yI3ShG"
   },
   "source": [
    "# loads in the training set and test set\n",
    "df_train = pd.read_csv(\"./movies_data_public_train.csv\")\n",
    "df_test = pd.read_csv(\"./movies_data_test.csv\")"
   ],
   "execution_count": 9,
   "outputs": []
  },
  {
   "cell_type": "markdown",
   "metadata": {
    "id": "AIaJme7IwGv5"
   },
   "source": [
    "Taking a quick look at the training data:"
   ]
  },
  {
   "cell_type": "code",
   "metadata": {
    "id": "gik6txRKwAuV"
   },
   "source": [
    "print(df_train.columns)\n",
    "df_train.head()"
   ],
   "execution_count": 10,
   "outputs": [
    {
     "name": "stdout",
     "output_type": "stream",
     "text": [
      "Index(['Unnamed: 0', 'movie_id', 'budget', 'title', 'tagline', 'release_date',\n",
      "       'runtime', 'genres', 'production_companies', 'production_countries',\n",
      "       'popularity', 'revenue', 'vote_average', 'vote_count', 'cast', 'crew',\n",
      "       'keywords', 'original_language', 'overview', 'spoken_languages'],\n",
      "      dtype='object')\n"
     ]
    },
    {
     "data": {
      "text/plain": "   Unnamed: 0  movie_id    budget                            title  \\\n0           0    116745  90000000  The Secret Life of Walter Mitty   \n1           1      3291   7000000       Good Night, and Good Luck.   \n2           2     12498   1000000                      Sling Blade   \n3           3    312221  37000000                            Creed   \n4           4      9279  60000000               Jingle All the Way   \n\n                                             tagline release_date  runtime  \\\n0                        Stop Dreaming, Start Living   12/18/2013    114.0   \n1  They took on the Government with nothing but t...    9/16/2005     93.0   \n2                  A simple man. A difficult choice.    8/30/1996    135.0   \n3                    Your legacy is more than a name   11/25/2015    133.0   \n4                   Two Dads, One Toy, No Prisoners.   11/15/1996     89.0   \n\n                                        genres  \\\n0  ['Adventure', 'Comedy', 'Drama', 'Fantasy']   \n1                         ['Drama', 'History']   \n2                                    ['Drama']   \n3                                    ['Drama']   \n4                         ['Family', 'Comedy']   \n\n                                production_companies  \\\n0  ['New Line Cinema', 'Ingenious Media', 'Twenti...   \n1  ['2929 Productions', 'Participant Productions'...   \n2                                  ['Miramax Films']   \n3  ['New Line Cinema', 'Warner Bros.', 'Metro-Gol...   \n4  ['Twentieth Century Fox Film Corporation', '14...   \n\n                                production_countries  popularity    revenue  \\\n0                       ['United States of America']   43.348022  188133322   \n1  ['France', 'Japan', 'United Kingdom', 'United ...   17.717681   54600000   \n2                       ['United States of America']   14.805264   24475416   \n3                       ['United States of America']   57.773583  173567581   \n4                       ['United States of America']   22.501041  129832389   \n\n   vote_average  vote_count  \\\n0           7.0        3144   \n1           6.8         273   \n2           7.4         231   \n3           7.3        1915   \n4           5.5         575   \n\n                                                cast  \\\n0  ['Ben Stiller', 'Kristen Wiig', 'Patton Oswalt...   \n1  ['David Strathairn', 'Jeff Daniels', 'Alex Bor...   \n2  ['Billy Bob Thornton', 'Dwight Yoakam', 'J. T....   \n3  ['Michael B. Jordan', 'Sylvester Stallone', 'G...   \n4  ['Arnold Schwarzenegger', 'Phil Hartman', 'Sin...   \n\n                                                crew  \\\n0  ['Ben Stiller', 'Ben Stiller', 'Stuart Cornfel...   \n1                 ['George Clooney', 'Grant Heslov']   \n2  ['Billy Bob Thornton', 'David L. Bushell', 'Br...   \n3  ['Irwin Winkler', 'Sylvester Stallone', 'Willi...   \n4  ['Chris Columbus', 'Mark Radcliffe', 'Brian Le...   \n\n                                            keywords original_language  \\\n0  ['himalaya', 'photographer', 'magazine', 'icel...                en   \n1  ['telecaster', 'communist', 'political activis...                en   \n2  ['independent film', 'repair shop', 'southern'...                en   \n3  ['underdog', 'sport', 'spin off', 'underground...                en   \n4  ['holiday', 'christmas party', 'santa claus', ...                en   \n\n                                            overview spoken_languages  \n0  A timid magazine photo manager who lives life ...      ['English']  \n1  The story of journalist, Edward R Murrow's sta...      ['English']  \n2  Karl Childers is a mentally disabled man who h...      ['English']  \n3  The former World Heavyweight Champion Rocky Ba...      ['English']  \n4  Meet Howard Langston, a salesman for a mattres...      ['English']  ",
      "text/html": "<div>\n<style scoped>\n    .dataframe tbody tr th:only-of-type {\n        vertical-align: middle;\n    }\n\n    .dataframe tbody tr th {\n        vertical-align: top;\n    }\n\n    .dataframe thead th {\n        text-align: right;\n    }\n</style>\n<table border=\"1\" class=\"dataframe\">\n  <thead>\n    <tr style=\"text-align: right;\">\n      <th></th>\n      <th>Unnamed: 0</th>\n      <th>movie_id</th>\n      <th>budget</th>\n      <th>title</th>\n      <th>tagline</th>\n      <th>release_date</th>\n      <th>runtime</th>\n      <th>genres</th>\n      <th>production_companies</th>\n      <th>production_countries</th>\n      <th>popularity</th>\n      <th>revenue</th>\n      <th>vote_average</th>\n      <th>vote_count</th>\n      <th>cast</th>\n      <th>crew</th>\n      <th>keywords</th>\n      <th>original_language</th>\n      <th>overview</th>\n      <th>spoken_languages</th>\n    </tr>\n  </thead>\n  <tbody>\n    <tr>\n      <th>0</th>\n      <td>0</td>\n      <td>116745</td>\n      <td>90000000</td>\n      <td>The Secret Life of Walter Mitty</td>\n      <td>Stop Dreaming, Start Living</td>\n      <td>12/18/2013</td>\n      <td>114.0</td>\n      <td>['Adventure', 'Comedy', 'Drama', 'Fantasy']</td>\n      <td>['New Line Cinema', 'Ingenious Media', 'Twenti...</td>\n      <td>['United States of America']</td>\n      <td>43.348022</td>\n      <td>188133322</td>\n      <td>7.0</td>\n      <td>3144</td>\n      <td>['Ben Stiller', 'Kristen Wiig', 'Patton Oswalt...</td>\n      <td>['Ben Stiller', 'Ben Stiller', 'Stuart Cornfel...</td>\n      <td>['himalaya', 'photographer', 'magazine', 'icel...</td>\n      <td>en</td>\n      <td>A timid magazine photo manager who lives life ...</td>\n      <td>['English']</td>\n    </tr>\n    <tr>\n      <th>1</th>\n      <td>1</td>\n      <td>3291</td>\n      <td>7000000</td>\n      <td>Good Night, and Good Luck.</td>\n      <td>They took on the Government with nothing but t...</td>\n      <td>9/16/2005</td>\n      <td>93.0</td>\n      <td>['Drama', 'History']</td>\n      <td>['2929 Productions', 'Participant Productions'...</td>\n      <td>['France', 'Japan', 'United Kingdom', 'United ...</td>\n      <td>17.717681</td>\n      <td>54600000</td>\n      <td>6.8</td>\n      <td>273</td>\n      <td>['David Strathairn', 'Jeff Daniels', 'Alex Bor...</td>\n      <td>['George Clooney', 'Grant Heslov']</td>\n      <td>['telecaster', 'communist', 'political activis...</td>\n      <td>en</td>\n      <td>The story of journalist, Edward R Murrow's sta...</td>\n      <td>['English']</td>\n    </tr>\n    <tr>\n      <th>2</th>\n      <td>2</td>\n      <td>12498</td>\n      <td>1000000</td>\n      <td>Sling Blade</td>\n      <td>A simple man. A difficult choice.</td>\n      <td>8/30/1996</td>\n      <td>135.0</td>\n      <td>['Drama']</td>\n      <td>['Miramax Films']</td>\n      <td>['United States of America']</td>\n      <td>14.805264</td>\n      <td>24475416</td>\n      <td>7.4</td>\n      <td>231</td>\n      <td>['Billy Bob Thornton', 'Dwight Yoakam', 'J. T....</td>\n      <td>['Billy Bob Thornton', 'David L. Bushell', 'Br...</td>\n      <td>['independent film', 'repair shop', 'southern'...</td>\n      <td>en</td>\n      <td>Karl Childers is a mentally disabled man who h...</td>\n      <td>['English']</td>\n    </tr>\n    <tr>\n      <th>3</th>\n      <td>3</td>\n      <td>312221</td>\n      <td>37000000</td>\n      <td>Creed</td>\n      <td>Your legacy is more than a name</td>\n      <td>11/25/2015</td>\n      <td>133.0</td>\n      <td>['Drama']</td>\n      <td>['New Line Cinema', 'Warner Bros.', 'Metro-Gol...</td>\n      <td>['United States of America']</td>\n      <td>57.773583</td>\n      <td>173567581</td>\n      <td>7.3</td>\n      <td>1915</td>\n      <td>['Michael B. Jordan', 'Sylvester Stallone', 'G...</td>\n      <td>['Irwin Winkler', 'Sylvester Stallone', 'Willi...</td>\n      <td>['underdog', 'sport', 'spin off', 'underground...</td>\n      <td>en</td>\n      <td>The former World Heavyweight Champion Rocky Ba...</td>\n      <td>['English']</td>\n    </tr>\n    <tr>\n      <th>4</th>\n      <td>4</td>\n      <td>9279</td>\n      <td>60000000</td>\n      <td>Jingle All the Way</td>\n      <td>Two Dads, One Toy, No Prisoners.</td>\n      <td>11/15/1996</td>\n      <td>89.0</td>\n      <td>['Family', 'Comedy']</td>\n      <td>['Twentieth Century Fox Film Corporation', '14...</td>\n      <td>['United States of America']</td>\n      <td>22.501041</td>\n      <td>129832389</td>\n      <td>5.5</td>\n      <td>575</td>\n      <td>['Arnold Schwarzenegger', 'Phil Hartman', 'Sin...</td>\n      <td>['Chris Columbus', 'Mark Radcliffe', 'Brian Le...</td>\n      <td>['holiday', 'christmas party', 'santa claus', ...</td>\n      <td>en</td>\n      <td>Meet Howard Langston, a salesman for a mattres...</td>\n      <td>['English']</td>\n    </tr>\n  </tbody>\n</table>\n</div>"
     },
     "execution_count": 10,
     "metadata": {},
     "output_type": "execute_result"
    }
   ]
  },
  {
   "cell_type": "markdown",
   "metadata": {
    "id": "namfdW4yxK1n"
   },
   "source": [
    "The testing data looks similar but lacks the *revenue* column."
   ]
  },
  {
   "cell_type": "markdown",
   "metadata": {
    "id": "Tc5VMlAeYbdZ"
   },
   "source": [
    "## Cleaning the Data\n",
    "\n",
    "We provided some data cleaning examples to illustrate a possible way to clean the categorical data. Make sure to clean both the training and test set in the same way. We only cleaned certain columns, but if you want to use other columns, you should clean those as well as you see fit!\n"
   ]
  },
  {
   "cell_type": "code",
   "metadata": {
    "id": "lIaYEM0043SQ"
   },
   "source": [
    "df_train[\"cast\"]"
   ],
   "execution_count": 11,
   "outputs": [
    {
     "data": {
      "text/plain": "0       ['Ben Stiller', 'Kristen Wiig', 'Patton Oswalt...\n1       ['David Strathairn', 'Jeff Daniels', 'Alex Bor...\n2       ['Billy Bob Thornton', 'Dwight Yoakam', 'J. T....\n3       ['Michael B. Jordan', 'Sylvester Stallone', 'G...\n4       ['Arnold Schwarzenegger', 'Phil Hartman', 'Sin...\n                              ...                        \n2152    ['Cuba Gooding Jr.', 'Ed Harris', 'Alfre Wooda...\n2153    ['Jack Nicholson', 'Shelley Duvall', 'Danny Ll...\n2154    ['Viggo Mortensen', 'Ed Harris', 'Renée Zellwe...\n2155    ['Forest Whitaker', 'James McAvoy', 'Simon McB...\n2156    ['Mark Wahlberg', 'Kate Beckinsale', 'Ben Fost...\nName: cast, Length: 2157, dtype: object"
     },
     "execution_count": 11,
     "metadata": {},
     "output_type": "execute_result"
    }
   ]
  },
  {
   "cell_type": "code",
   "metadata": {
    "id": "tZVYsA1JETWm"
   },
   "source": [
    "### TRAINING CLEANING\n",
    "# gets first member of cast and puts in diff col\n",
    "cast_list = []\n",
    "# for each entry in the column \"cast\", get rid of excess characters\n",
    "# and split the long string of cast members into an array\n",
    "for i in range(len(df_train[\"cast\"])): \n",
    "    cast = df_train[\"cast\"].iloc[i]\n",
    "    cast = cast.replace(\"'\", \"\")\n",
    "    cast = cast.replace('\"', \"\")\n",
    "    cast = cast.replace(\"[\", \"\")\n",
    "    cast = cast.replace(\"]\", \"\")\n",
    "    cast = cast.split(',')\n",
    "    # get only the first member of the cast list\n",
    "    cast_list.append(cast[0])\n",
    "\n",
    "# put top cast members in new column\n",
    "df_train[\"main_cast\"] = cast_list\n",
    "\n",
    "# Note: if you want to completely clean the cast column, you will need to do \n",
    "# some cleaning similar to \"genres\" show below"
   ],
   "execution_count": 12,
   "outputs": []
  },
  {
   "cell_type": "code",
   "metadata": {
    "id": "SKF3QRyF3IcI"
   },
   "source": [
    "df_train[\"main_cast\"]"
   ],
   "execution_count": 13,
   "outputs": [
    {
     "data": {
      "text/plain": "0                 Ben Stiller\n1            David Strathairn\n2          Billy Bob Thornton\n3           Michael B. Jordan\n4       Arnold Schwarzenegger\n                ...          \n2152         Cuba Gooding Jr.\n2153           Jack Nicholson\n2154          Viggo Mortensen\n2155          Forest Whitaker\n2156            Mark Wahlberg\nName: main_cast, Length: 2157, dtype: object"
     },
     "execution_count": 13,
     "metadata": {},
     "output_type": "execute_result"
    }
   ]
  },
  {
   "cell_type": "markdown",
   "metadata": {
    "id": "kS4tC8v15Rjt"
   },
   "source": [
    "We clean other textual features similarly."
   ]
  },
  {
   "cell_type": "code",
   "metadata": {
    "id": "44hQYe6n5MXJ"
   },
   "source": [
    "# gets director (fist member of cast) and puts in diff col\n",
    "crew_list = []\n",
    "# for each entry in the column \"crew\", get rid of excess characters\n",
    "# and split the long string of crew members into an array\n",
    "for i in range(len(df_train[\"crew\"])): \n",
    "    crew = df_train[\"crew\"].iloc[i]\n",
    "    crew = crew.replace(\"'\", \"\") \n",
    "    crew = crew.replace('\"', \"\")\n",
    "    crew = crew.replace(\"[\", \"\")\n",
    "    crew = crew.replace(\"]\", \"\")\n",
    "    crew = crew.split(',')\n",
    "    # get only first member of crew list, which is director\n",
    "    crew_list.append(crew[0])\n",
    "# put director in new column\n",
    "df_train[\"director\"] = crew_list\n",
    "\n",
    "# cleans genres \n",
    "genres_list = []\n",
    "# for each entry in the column \"genres\", get rid of excess characters\n",
    "# and split the long string of genres into an array\n",
    "for i in range(len(df_train[\"genres\"])): \n",
    "    genres = df_train[\"genres\"].iloc[i]\n",
    "    genres = genres.replace(\"'\", \"\") \n",
    "    genres = genres.replace(\"[\", \"\")\n",
    "    genres = genres.replace(\"]\", \"\")\n",
    "    genres = genres.split(',')\n",
    "    # for each genre in the list, strip white spaces and add to new array\n",
    "    array = []\n",
    "    for gr in genres:\n",
    "        gr = gr.strip()\n",
    "        array.append(gr)\n",
    "    genres_list.append(array) \n",
    "# replace \"genres\" column with cleaned list\n",
    "df_train[\"genres\"] = genres_list\n",
    "\n",
    "# cleans production companies\n",
    "comp_list = []\n",
    "# for each entry in the column \"production_companies\", get rid of excess \n",
    "# characters and split the long string of companies into an array\n",
    "for i in range(len(df_train[\"production_companies\"])): \n",
    "    comp = df_train[\"production_companies\"].iloc[i]\n",
    "    comp = comp.replace(\"'\", \"\") \n",
    "    comp = comp.replace(\"[\", \"\")\n",
    "    comp = comp.replace(\"]\", \"\")\n",
    "    comp = comp.split(',')\n",
    "    # for each company in the list, strip white spaces and add to new array\n",
    "    array = []\n",
    "    for idx, co in enumerate(comp):\n",
    "        if (idx < 5):\n",
    "          co = co.strip()\n",
    "          array.append(co)\n",
    "    comp_list.append(array) \n",
    "# replace \"production_companies\" column with cleaned list\n",
    "df_train[\"production_companies\"] = comp_list"
   ],
   "execution_count": 14,
   "outputs": []
  },
  {
   "cell_type": "markdown",
   "metadata": {
    "id": "ObEm5Aqn5r2T"
   },
   "source": [
    "We also clean the testing data in a similar manner."
   ]
  },
  {
   "cell_type": "code",
   "metadata": {
    "id": "An3IdLj25ur2"
   },
   "source": [
    "### TESTING CLEANING \n",
    "# gets first member of cast and puts in diff col\n",
    "cast_list = []\n",
    "# for each entry in the column \"cast\", get rid of excess characters\n",
    "# and split the long string of cast members into an array\n",
    "for i in range(len(df_test[\"cast\"])): \n",
    "    cast = df_test[\"cast\"].iloc[i]\n",
    "    cast = cast.replace(\"'\", \"\")\n",
    "    cast = cast.replace('\"', \"\")\n",
    "    cast = cast.replace(\"[\", \"\")\n",
    "    cast = cast.replace(\"]\", \"\")\n",
    "    cast = cast.split(',')\n",
    "    # get only the first member of the cast list\n",
    "    cast_list.append(cast[0])\n",
    "# put top cast members in new column\n",
    "df_test[\"main_cast\"] = cast_list\n",
    "# Note: if you want to completely clean the cast column, you will need to do \n",
    "# some cleaning similar to \"genres\" show below\n",
    "\n",
    "# gets director and puts in diff col\n",
    "crew_list = []\n",
    "# for each entry in the column \"crew\", get rid of excess characters\n",
    "# and split the long string of crew members into an array\n",
    "for i in range(len(df_test[\"crew\"])): \n",
    "    crew = df_test[\"crew\"].iloc[i]\n",
    "    crew = crew.replace(\"'\", \"\") \n",
    "    crew = crew.replace('\"', \"\")\n",
    "    crew = crew.replace(\"[\", \"\")\n",
    "    crew = crew.replace(\"]\", \"\")\n",
    "    crew = crew.split(',')\n",
    "    # get only first member of crew list, which is director\n",
    "    crew_list.append(crew[0])\n",
    "# put director in new column\n",
    "df_test[\"director\"] = crew_list\n",
    "\n",
    "# cleans genres \n",
    "genres_list = []\n",
    "# for each entry in the column \"genres\", get rid of excess characters\n",
    "# and split the long string of genres into an array\n",
    "for i in range(len(df_test[\"genres\"])): \n",
    "    genres = df_test[\"genres\"].iloc[i]\n",
    "    genres = genres.replace(\"'\", \"\") \n",
    "    genres = genres.replace(\"[\", \"\")\n",
    "    genres = genres.replace(\"]\", \"\")\n",
    "    genres = genres.split(',')\n",
    "    # for each genre in the list, strip white spaces and add to new array\n",
    "    array = []\n",
    "    for gr in genres:\n",
    "        gr = gr.strip()\n",
    "        array.append(gr)\n",
    "    genres_list.append(array) \n",
    "# replace \"genres\" column with cleaned list\n",
    "df_test[\"genres\"] = genres_list\n",
    "\n",
    "# cleans production companies\n",
    "comp_list = []\n",
    "# for each entry in the column \"production_companies\", get rid of excess \n",
    "# characters and split the long string of companies into an array\n",
    "for i in range(len(df_test[\"production_companies\"])): \n",
    "    comp = df_test[\"production_companies\"].iloc[i]\n",
    "    comp = comp.replace(\"'\", \"\") \n",
    "    comp = comp.replace(\"[\", \"\")\n",
    "    comp = comp.replace(\"]\", \"\")\n",
    "    comp = comp.split(',')\n",
    "    # for each company in the list, strip white spaces and add to new array\n",
    "    array = []\n",
    "    for idx, co in enumerate(comp):\n",
    "        if (idx < 5):\n",
    "          co = co.strip()\n",
    "          array.append(co)\n",
    "    comp_list.append(array) \n",
    "# replace \"production_companies\" column with cleaned list\n",
    "df_test[\"production_companies\"] = comp_list"
   ],
   "execution_count": 15,
   "outputs": []
  },
  {
   "cell_type": "markdown",
   "metadata": {
    "id": "8313cHRJY7Ij"
   },
   "source": [
    "## Basic Exploratory Data Analysis\n",
    "Here we have done some basic EDA, so you can visualize the data and make decisions about your models based on this EDA. Feel free to do more EDA to visualize other variables. "
   ]
  },
  {
   "cell_type": "code",
   "metadata": {
    "id": "DzxR8hj6_c-H"
   },
   "source": [
    "# imports data visualization packages\n",
    "import seaborn\n",
    "import matplotlib.pyplot as plt"
   ],
   "execution_count": 16,
   "outputs": []
  },
  {
   "cell_type": "code",
   "metadata": {
    "id": "FydAASl28QEb"
   },
   "source": [
    "df_train.describe()"
   ],
   "execution_count": 17,
   "outputs": [
    {
     "data": {
      "text/plain": "        Unnamed: 0       movie_id        budget      runtime   popularity  \\\ncount  2157.000000    2157.000000  2.157000e+03  2157.000000  2157.000000   \nmean   1078.000000   42509.092258  4.056228e+07   110.322670    29.541844   \nstd     622.816586   71791.082456  4.510740e+07    20.387132    36.068661   \nmin       0.000000       5.000000  0.000000e+00    41.000000     0.034259   \n25%     539.000000    4970.000000  1.000000e+07    96.000000    10.756266   \n50%    1078.000000   11212.000000  2.500000e+07   107.000000    20.399578   \n75%    1617.000000   44040.000000  5.500000e+07   120.000000    37.668301   \nmax    2156.000000  417859.000000  3.800000e+08   248.000000   724.247784   \n\n            revenue  vote_average    vote_count  \ncount  2.157000e+03   2157.000000   2157.000000  \nmean   1.222264e+08      6.305192    995.296245  \nstd    1.836984e+08      0.873386   1447.196782  \nmin    1.030000e+02      0.000000      0.000000  \n25%    1.825342e+07      5.800000    186.000000  \n50%    5.518113e+07      6.300000    475.000000  \n75%    1.478450e+08      6.900000   1155.000000  \nmax    1.845034e+09     10.000000  13752.000000  ",
      "text/html": "<div>\n<style scoped>\n    .dataframe tbody tr th:only-of-type {\n        vertical-align: middle;\n    }\n\n    .dataframe tbody tr th {\n        vertical-align: top;\n    }\n\n    .dataframe thead th {\n        text-align: right;\n    }\n</style>\n<table border=\"1\" class=\"dataframe\">\n  <thead>\n    <tr style=\"text-align: right;\">\n      <th></th>\n      <th>Unnamed: 0</th>\n      <th>movie_id</th>\n      <th>budget</th>\n      <th>runtime</th>\n      <th>popularity</th>\n      <th>revenue</th>\n      <th>vote_average</th>\n      <th>vote_count</th>\n    </tr>\n  </thead>\n  <tbody>\n    <tr>\n      <th>count</th>\n      <td>2157.000000</td>\n      <td>2157.000000</td>\n      <td>2.157000e+03</td>\n      <td>2157.000000</td>\n      <td>2157.000000</td>\n      <td>2.157000e+03</td>\n      <td>2157.000000</td>\n      <td>2157.000000</td>\n    </tr>\n    <tr>\n      <th>mean</th>\n      <td>1078.000000</td>\n      <td>42509.092258</td>\n      <td>4.056228e+07</td>\n      <td>110.322670</td>\n      <td>29.541844</td>\n      <td>1.222264e+08</td>\n      <td>6.305192</td>\n      <td>995.296245</td>\n    </tr>\n    <tr>\n      <th>std</th>\n      <td>622.816586</td>\n      <td>71791.082456</td>\n      <td>4.510740e+07</td>\n      <td>20.387132</td>\n      <td>36.068661</td>\n      <td>1.836984e+08</td>\n      <td>0.873386</td>\n      <td>1447.196782</td>\n    </tr>\n    <tr>\n      <th>min</th>\n      <td>0.000000</td>\n      <td>5.000000</td>\n      <td>0.000000e+00</td>\n      <td>41.000000</td>\n      <td>0.034259</td>\n      <td>1.030000e+02</td>\n      <td>0.000000</td>\n      <td>0.000000</td>\n    </tr>\n    <tr>\n      <th>25%</th>\n      <td>539.000000</td>\n      <td>4970.000000</td>\n      <td>1.000000e+07</td>\n      <td>96.000000</td>\n      <td>10.756266</td>\n      <td>1.825342e+07</td>\n      <td>5.800000</td>\n      <td>186.000000</td>\n    </tr>\n    <tr>\n      <th>50%</th>\n      <td>1078.000000</td>\n      <td>11212.000000</td>\n      <td>2.500000e+07</td>\n      <td>107.000000</td>\n      <td>20.399578</td>\n      <td>5.518113e+07</td>\n      <td>6.300000</td>\n      <td>475.000000</td>\n    </tr>\n    <tr>\n      <th>75%</th>\n      <td>1617.000000</td>\n      <td>44040.000000</td>\n      <td>5.500000e+07</td>\n      <td>120.000000</td>\n      <td>37.668301</td>\n      <td>1.478450e+08</td>\n      <td>6.900000</td>\n      <td>1155.000000</td>\n    </tr>\n    <tr>\n      <th>max</th>\n      <td>2156.000000</td>\n      <td>417859.000000</td>\n      <td>3.800000e+08</td>\n      <td>248.000000</td>\n      <td>724.247784</td>\n      <td>1.845034e+09</td>\n      <td>10.000000</td>\n      <td>13752.000000</td>\n    </tr>\n  </tbody>\n</table>\n</div>"
     },
     "execution_count": 17,
     "metadata": {},
     "output_type": "execute_result"
    }
   ]
  },
  {
   "cell_type": "code",
   "metadata": {
    "id": "H-LYZ1pc6PHD"
   },
   "source": [
    "seaborn.histplot(df_train[\"budget\"])\n",
    "plt.xlabel('revenue')\n",
    "plt.ylabel('number of movies')\n",
    "plt.title('Histogram of Revenue and Movies')\n",
    "plt.show()\n",
    "\n",
    "seaborn.histplot(df_train[\"runtime\"])\n",
    "plt.xlabel('runtime')\n",
    "plt.ylabel('number of movies')\n",
    "plt.title('Histogram of Runtime and Movies')\n",
    "plt.show()"
   ],
   "execution_count": 18,
   "outputs": [
    {
     "data": {
      "text/plain": "<Figure size 432x288 with 1 Axes>",
      "image/png": "[encoded data removed]"
     },
     "metadata": {
      "needs_background": "light"
     },
     "output_type": "display_data"
    },
    {
     "data": {
      "text/plain": "<Figure size 432x288 with 1 Axes>",
      "image/png": "[encoded data removed]"
     },
     "metadata": {
      "needs_background": "light"
     },
     "output_type": "display_data"
    }
   ]
  },
  {
   "cell_type": "code",
   "metadata": {
    "id": "u2AFNGwh6_Hd"
   },
   "source": [
    "arr2 = df_train[\"genres\"].values\n",
    "from collections import Counter\n",
    "c = Counter()\n",
    "for xs in arr2:\n",
    "    for x in set(xs):\n",
    "        c[x] += 1\n",
    "   \n",
    "categories = []\n",
    "vals = []\n",
    "for i in c:\n",
    "    categories.append(i)\n",
    "    vals.append(c[i])\n",
    "\n",
    "fig = plt.figure()\n",
    "ax = fig.add_axes([0,0,1,1])\n",
    "ax.bar(categories,vals, label='genres')\n",
    "ax.set_title('Distribution of Genres across Movies')\n",
    "plt.xticks(rotation = 90)\n",
    "plt.show()"
   ],
   "execution_count": 19,
   "outputs": [
    {
     "data": {
      "text/plain": "<Figure size 432x288 with 1 Axes>",
      "image/png": "[encoded data removed]"
     },
     "metadata": {
      "needs_background": "light"
     },
     "output_type": "display_data"
    }
   ]
  },
  {
   "cell_type": "code",
   "metadata": {
    "id": "Z4OBrdKo7ezw"
   },
   "source": [
    "seaborn.heatmap(df_train.drop(columns=['Unnamed: 0', 'movie_id']).corr(), annot=True, vmin=-1, vmax=1)\n",
    "plt.show()"
   ],
   "execution_count": 20,
   "outputs": [
    {
     "data": {
      "text/plain": "<Figure size 432x288 with 2 Axes>",
      "image/png": "[encoded data removed]"
     },
     "metadata": {
      "needs_background": "light"
     },
     "output_type": "display_data"
    }
   ]
  },
  {
   "cell_type": "markdown",
   "metadata": {
    "id": "f89nDxxIZGKr"
   },
   "source": [
    "## Preparing certain textual variables to use in the model\n",
    "\n",
    "Many of the given features are textual. Here we illustrate a simple example of how the textual data could be used in your model to predict revenue. Specifically, we define two dummy variables for if a movie is directed by one of two high-profile directors."
   ]
  },
  {
   "cell_type": "code",
   "metadata": {
    "id": "Xqy01t84qZa2"
   },
   "source": [
    "df_train['MS_dummy'] = df_train['director'] == 'Martin Scorsese'\n",
    "df_train['SS_dummy'] = df_train['director'] == 'Steven Spielberg'\n",
    "\n",
    "df_test['MS_dummy'] = df_test['director'] == 'Martin Scorsese'\n",
    "df_test['SS_dummy'] = df_test['director'] == 'Steven Spielberg'"
   ],
   "execution_count": 21,
   "outputs": []
  },
  {
   "cell_type": "code",
   "metadata": {
    "id": "BlKEMBlykdtG"
   },
   "source": [
    "df_train['MS_dummy'].sum(), df_train['SS_dummy'].sum()"
   ],
   "execution_count": 22,
   "outputs": [
    {
     "data": {
      "text/plain": "(9, 19)"
     },
     "execution_count": 22,
     "metadata": {},
     "output_type": "execute_result"
    }
   ]
  },
  {
   "cell_type": "code",
   "metadata": {
    "id": "2d3LR7nqkm8P"
   },
   "source": [
    "df_test['MS_dummy'].sum(), df_test['SS_dummy'].sum()"
   ],
   "execution_count": 23,
   "outputs": [
    {
     "data": {
      "text/plain": "(1, 10)"
     },
     "execution_count": 23,
     "metadata": {},
     "output_type": "execute_result"
    }
   ]
  },
  {
   "cell_type": "markdown",
   "metadata": {
    "id": "qkhBXnO6kvfH"
   },
   "source": [
    "We will evaluate two models, one which does not include these dummy variables and one which does."
   ]
  },
  {
   "cell_type": "markdown",
   "metadata": {
    "id": "HRqu9UdtZiXT"
   },
   "source": [
    "## Creating and evaluating models\n",
    "\n",
    "Here we provide a very simple example for modeling revenue. In order to analyze model performance, we suggest creating an additional validation set from the training data. We evaluate how good the model is based on the root mean squared log error (RMSLE) and $R^2$ value. If you predict negative numbers, you should threshold your predictions at 0 before calculating the RMSLE or you will get an error. When we evaluate your predictions, we will also be thresholding at 0, so it is okay to have negative values in your submission. "
   ]
  },
  {
   "cell_type": "code",
   "metadata": {
    "id": "VsOrz4PSETWo"
   },
   "source": [
    "# imports necessary packages for modeling\n",
    "from sklearn.model_selection import train_test_split\n",
    "from sklearn.preprocessing import StandardScaler\n",
    "from sklearn.ensemble import RandomForestRegressor\n",
    "from sklearn.metrics import mean_squared_log_error, r2_score"
   ],
   "execution_count": 24,
   "outputs": []
  },
  {
   "cell_type": "markdown",
   "metadata": {
    "id": "k2zavX0IdOl8"
   },
   "source": [
    "#### Without textual dummy variables"
   ]
  },
  {
   "cell_type": "code",
   "metadata": {
    "id": "Om9Ge_7eJCyp"
   },
   "source": [
    "# creates your feature dataframe and outcome column\n",
    "X = df_train[[\"budget\", \"runtime\", \"popularity\"]]\n",
    "y = df_train[\"revenue\"]\n",
    "\n",
    "# creates a training and validation set from the overall training data (20% validation)\n",
    "X_train, X_val, y_train, y_val = train_test_split(X, y, test_size=0.2, random_state=0)\n",
    "\n",
    "# standardize features\n",
    "scalar = StandardScaler().fit(X_train)\n",
    "X_train = scalar.transform(X_train)\n",
    "X_val = scalar.transform(X_val)\n",
    "\n",
    "# creates a random forest\n",
    "rf = RandomForestRegressor(max_depth=7, random_state=0)\n",
    "\n",
    "# fits the model\n",
    "rf.fit(X_train, y_train)\n",
    "\n",
    "# predicts outcomes for the training data\n",
    "y_train_pred = rf.predict(X_train)\n",
    "\n",
    "# calculates the RMSLE and R^2 for the training data\n",
    "rf_train_rmsle = np.sqrt(mean_squared_log_error(y_train, y_train_pred))\n",
    "rf_train_r2 = r2_score(y_train, y_train_pred)\n",
    "print(\"RF training: RMSLE \\t= %f & R^2 \\t= %f\" % (rf_train_rmsle, rf_train_r2))\n",
    "\n",
    "# predicts outcomes for the validation data (this is important to see how your\n",
    "# model extends to unseen data)\n",
    "y_val_pred = rf.predict(X_val)\n",
    "\n",
    "# calculates the RMSLE and R^2 for the testing data\n",
    "rf_val_rmsle = np.sqrt(mean_squared_log_error(y_val, y_val_pred))\n",
    "rf_val_r2 = r2_score(y_val, y_val_pred)\n",
    "print(\"RF validation: RMSLE \\t= %f & R^2 \\t= %f\" % (rf_val_rmsle, rf_val_r2))"
   ],
   "execution_count": 25,
   "outputs": [
    {
     "name": "stdout",
     "output_type": "stream",
     "text": [
      "RF training: RMSLE \t= 1.238013 & R^2 \t= 0.862452\n",
      "RF validation: RMSLE \t= 1.343366 & R^2 \t= 0.528730\n"
     ]
    }
   ]
  },
  {
   "cell_type": "markdown",
   "metadata": {
    "id": "KkQmbrT-dMAE"
   },
   "source": [
    "#### With textual dummy variables"
   ]
  },
  {
   "cell_type": "code",
   "metadata": {
    "id": "XncHN89ILY_l"
   },
   "source": [
    "# creates your feature dataframe and outcome column\n",
    "X = df_train[[\"budget\", \"runtime\", \"popularity\", \"MS_dummy\", \"SS_dummy\"]]\n",
    "y = df_train[\"revenue\"]\n",
    "\n",
    "# creates a training and validation set from the overall training data (20% validation)\n",
    "X_train, X_val, y_train, y_val = train_test_split(X, y, test_size=0.2, random_state=0)\n",
    "\n",
    "# standardize features\n",
    "scalar = StandardScaler().fit(X_train)\n",
    "X_train = scalar.transform(X_train)\n",
    "X_val = scalar.transform(X_val)\n",
    "\n",
    "# creates a random forest\n",
    "rf2 = RandomForestRegressor(max_depth=7, random_state=0)\n",
    "\n",
    "# fits the model\n",
    "rf2.fit(X_train, y_train)\n",
    "\n",
    "# predicts outcomes for the training data\n",
    "y_train_pred = rf2.predict(X_train)\n",
    "\n",
    "# calculates the RMSLE and R^2 for the training data\n",
    "rf2_train_rmsle = np.sqrt(mean_squared_log_error(y_train, y_train_pred))\n",
    "rf2_train_r2 = r2_score(y_train, y_train_pred)\n",
    "print(\"RF2 training: RMSLE \\t= %f & R^2 = %f\" % (rf2_train_rmsle, rf2_train_r2))\n",
    "\n",
    "# predicts outcomes for the testing data (this is important to see how your\n",
    "# model extends to unseen data)\n",
    "y_val_pred = rf2.predict(X_val)\n",
    "\n",
    "# calculates the RMSLE and R^2 for the testing data\n",
    "rf2_val_rmsle = np.sqrt(mean_squared_log_error(y_val, y_val_pred))\n",
    "rf2_val_r2 = r2_score(y_val, y_val_pred)\n",
    "print(\"RF2 validation: RMSLE \\t= %f & R^2 = %f\" % (rf2_val_rmsle, rf2_val_r2))"
   ],
   "execution_count": 26,
   "outputs": [
    {
     "name": "stdout",
     "output_type": "stream",
     "text": [
      "RF2 training: RMSLE \t= 1.237834 & R^2 = 0.863595\n",
      "RF2 validation: RMSLE \t= 1.342418 & R^2 = 0.532653\n"
     ]
    }
   ]
  },
  {
   "cell_type": "markdown",
   "metadata": {
    "id": "AgZAF1JUl8BV"
   },
   "source": [
    "It appears that we can squeeze out marginal performance improvements by using the textual data! In fact, we suspect that the best models will use the textual features in creative ways to maximize performance."
   ]
  },
  {
   "cell_type": "markdown",
   "metadata": {
    "id": "vhlDHmPjFim8"
   },
   "source": [
    "#### Make sure to train on the entire training + validation set\n",
    "Since the model was developed on a subset of the training data, you need to use all of the official training data to train the model that is submitted to the leaderboard."
   ]
  },
  {
   "cell_type": "code",
   "metadata": {
    "id": "WqjUMJIHFxAV"
   },
   "source": [
    "# train new model on all of the training data that was provided\n",
    "X = df_train[[\"budget\", \"runtime\", \"popularity\", \"MS_dummy\", \"SS_dummy\"]]\n",
    "y = df_train[\"revenue\"]\n",
    "\n",
    "rf_final = RandomForestRegressor(max_depth=7, random_state=0)\n",
    "rf_final.fit(X, y)"
   ],
   "execution_count": 27,
   "outputs": [
    {
     "data": {
      "text/plain": "RandomForestRegressor(max_depth=7, random_state=0)"
     },
     "execution_count": 27,
     "metadata": {},
     "output_type": "execute_result"
    }
   ]
  },
  {
   "cell_type": "markdown",
   "metadata": {
    "id": "V5UBNYCPRn5C"
   },
   "source": [
    "## How to upload your output to EvalAI\n",
    "The required submission format is a .csv file with two columns, *movie_id* and *predicted revenue*. You should submit a file like this when submitting to both the Public phase and Private phase of the competition on EvalAI."
   ]
  },
  {
   "cell_type": "code",
   "metadata": {
    "id": "kzGw-00ARnOP"
   },
   "source": [
    "# generate predictions on the official provided test set\n",
    "X_test = df_test[[\"budget\", \"runtime\",\"popularity\", \"MS_dummy\", \"SS_dummy\"]]\n",
    "\n",
    "# predict on the testing data\n",
    "y_test_pred = rf_final.predict(X_test)\n",
    "\n",
    "# get the movie ids and corresponding revenues you predicted and put in a new dataframe\n",
    "results = df_test[\"movie_id\"].copy()\n",
    "results = pd.DataFrame(results)\n",
    "results[\"predicted revenue\"] = y_test_pred \n",
    "\n",
    "# convert dataframe into csv that you will submit to the leaderboard\n",
    "results.to_csv(r'test_competition_entry.csv', index = False, header=True)"
   ],
   "execution_count": 28,
   "outputs": []
  },
  {
   "cell_type": "code",
   "metadata": {
    "id": "jFW1OGl7BnSE"
   },
   "source": [
    "results"
   ],
   "execution_count": 29,
   "outputs": [
    {
     "data": {
      "text/plain": "     movie_id  predicted revenue\n0      152760       1.827386e+08\n1       59981       4.392411e+07\n2        2062       4.000401e+08\n3        6957       1.163636e+08\n4        2013       3.424931e+07\n..        ...                ...\n920     35019       8.676907e+07\n921     71552       1.415909e+08\n922       805       6.101585e+07\n923     11283       6.785371e+07\n924      9718       6.026826e+07\n\n[925 rows x 2 columns]",
      "text/html": "<div>\n<style scoped>\n    .dataframe tbody tr th:only-of-type {\n        vertical-align: middle;\n    }\n\n    .dataframe tbody tr th {\n        vertical-align: top;\n    }\n\n    .dataframe thead th {\n        text-align: right;\n    }\n</style>\n<table border=\"1\" class=\"dataframe\">\n  <thead>\n    <tr style=\"text-align: right;\">\n      <th></th>\n      <th>movie_id</th>\n      <th>predicted revenue</th>\n    </tr>\n  </thead>\n  <tbody>\n    <tr>\n      <th>0</th>\n      <td>152760</td>\n      <td>1.827386e+08</td>\n    </tr>\n    <tr>\n      <th>1</th>\n      <td>59981</td>\n      <td>4.392411e+07</td>\n    </tr>\n    <tr>\n      <th>2</th>\n      <td>2062</td>\n      <td>4.000401e+08</td>\n    </tr>\n    <tr>\n      <th>3</th>\n      <td>6957</td>\n      <td>1.163636e+08</td>\n    </tr>\n    <tr>\n      <th>4</th>\n      <td>2013</td>\n      <td>3.424931e+07</td>\n    </tr>\n    <tr>\n      <th>...</th>\n      <td>...</td>\n      <td>...</td>\n    </tr>\n    <tr>\n      <th>920</th>\n      <td>35019</td>\n      <td>8.676907e+07</td>\n    </tr>\n    <tr>\n      <th>921</th>\n      <td>71552</td>\n      <td>1.415909e+08</td>\n    </tr>\n    <tr>\n      <th>922</th>\n      <td>805</td>\n      <td>6.101585e+07</td>\n    </tr>\n    <tr>\n      <th>923</th>\n      <td>11283</td>\n      <td>6.785371e+07</td>\n    </tr>\n    <tr>\n      <th>924</th>\n      <td>9718</td>\n      <td>6.026826e+07</td>\n    </tr>\n  </tbody>\n</table>\n<p>925 rows × 2 columns</p>\n</div>"
     },
     "execution_count": 29,
     "metadata": {},
     "output_type": "execute_result"
    }
   ]
  },
  {
   "cell_type": "markdown",
   "metadata": {
    "id": "rkM-8WnlnykT"
   },
   "source": [
    "You can now upload these predictions to EvalAI to see how well your model performs against other models."
   ]
  },
  {
   "cell_type": "markdown",
   "metadata": {
    "id": "2ZuyVLEKo3iZ"
   },
   "source": [
    "## Good luck!"
   ]
  }
 ]
}